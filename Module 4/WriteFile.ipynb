{
 "cells": [
  {
   "cell_type": "code",
   "execution_count": 5,
   "metadata": {},
   "outputs": [],
   "source": [
    "# Write line to file\n",
    "\n",
    "with open('/resources/data/Example2.txt',\"w\") as writefile:\n",
    "    writefile.write(\"This is line A\")"
   ]
  },
  {
   "cell_type": "code",
   "execution_count": 6,
   "metadata": {},
   "outputs": [
    {
     "name": "stdout",
     "output_type": "stream",
     "text": [
      "This is line A\n"
     ]
    }
   ],
   "source": [
    "# Read file\n",
    "\n",
    "with open('/resources/data/Example2.txt',\"r\") as testwritefile:\n",
    "    print(testwritefile.read())"
   ]
  },
  {
   "cell_type": "code",
   "execution_count": 1,
   "metadata": {},
   "outputs": [],
   "source": [
    "# Write lines to file\n",
    "\n",
    "with open('/resources/data/Example2.txt','w') as writefile:\n",
    "    writefile.write(\"This is line 1\\n\")\n",
    "    writefile.write(\"This is line 2\\n\")"
   ]
  },
  {
   "cell_type": "code",
   "execution_count": 2,
   "metadata": {},
   "outputs": [
    {
     "name": "stdout",
     "output_type": "stream",
     "text": [
      "This is line 1\n",
      "This is line 2\n",
      "\n"
     ]
    }
   ],
   "source": [
    "# Check the write\n",
    "\n",
    "with open('/resources/data/Example2.txt','r') as testwritefile:\n",
    "    print(testwritefile.read())"
   ]
  },
  {
   "cell_type": "code",
   "execution_count": 7,
   "metadata": {},
   "outputs": [],
   "source": [
    "# Write a new line with append\n",
    "\n",
    "with open('/resources/data/Example2.txt',\"a\") as testwritefile:\n",
    "    testwritefile.write(\"This is line 3\\n\")"
   ]
  },
  {
   "cell_type": "code",
   "execution_count": 8,
   "metadata": {},
   "outputs": [
    {
     "name": "stdout",
     "output_type": "stream",
     "text": [
      "This is line 1\n",
      "This is line 2\n",
      "This is line C\n",
      "This is line3\n",
      "This is line 3\n",
      "\n"
     ]
    }
   ],
   "source": [
    "with open('/resources/data/Example2.txt',\"r\") as testwritefile:\n",
    "    print(testwritefile.read())\n",
    "    \n",
    "# the file is motified from different files"
   ]
  },
  {
   "cell_type": "code",
   "execution_count": 17,
   "metadata": {},
   "outputs": [
    {
     "data": {
      "text/plain": [
       "['The weather outside is lovely\\n',\n",
       " 'We have to stay inside though\\n',\n",
       " 'Summer will be here soon\\n']"
      ]
     },
     "execution_count": 17,
     "metadata": {},
     "output_type": "execute_result"
    }
   ],
   "source": [
    "# Sample lines of text\n",
    "\n",
    "Lines =[\"The weather outside is lovely\\n\", \"We have to stay inside though\\n\", \"Summer will be here soon\\n\"]\n",
    "Lines"
   ]
  },
  {
   "cell_type": "code",
   "execution_count": 18,
   "metadata": {},
   "outputs": [
    {
     "name": "stdout",
     "output_type": "stream",
     "text": [
      "The weather outside is lovely\n",
      "\n",
      "We have to stay inside though\n",
      "\n",
      "Summer will be here soon\n",
      "\n"
     ]
    }
   ],
   "source": [
    "# Write the strings in the list to the text file\n",
    "\n",
    "with open(\"Example2.txt\",\"w\") as writefile:\n",
    "    for line in Lines:\n",
    "        print(line)\n",
    "        writefile.write(line)\n",
    "\n"
   ]
  },
  {
   "cell_type": "code",
   "execution_count": 20,
   "metadata": {},
   "outputs": [
    {
     "name": "stdout",
     "output_type": "stream",
     "text": [
      "The weather outside is lovely\n",
      "We have to stay inside though\n",
      "Summer will be here soon\n",
      "\n"
     ]
    }
   ],
   "source": [
    "# Verify\n",
    "\n",
    "with open(\"Example2.txt\",\"r\") as testwritefile:\n",
    "    print(testwritefile.read())"
   ]
  },
  {
   "cell_type": "code",
   "execution_count": 22,
   "metadata": {},
   "outputs": [],
   "source": [
    "# Append a line to the file\n",
    "\n",
    "with open(\"Example2.txt\",\"a\") as testwritefile:\n",
    "    testwritefile.write(\"This program overwrites the other\\n\")"
   ]
  },
  {
   "cell_type": "code",
   "execution_count": 23,
   "metadata": {},
   "outputs": [
    {
     "name": "stdout",
     "output_type": "stream",
     "text": [
      "The weather outside is lovely\n",
      "We have to stay inside though\n",
      "Summer will be here soon\n",
      "This program overwrites the otherThis is line D\n",
      "This program overwrites the other\n",
      "\n"
     ]
    }
   ],
   "source": [
    "# Verify the append\n",
    "\n",
    "with open(\"Example2.txt\", \"r\") as testwritefile:\n",
    "    print(testwritefile.read())"
   ]
  },
  {
   "cell_type": "code",
   "execution_count": 25,
   "metadata": {},
   "outputs": [],
   "source": [
    "# Copy file to another\n",
    "\n",
    "with open(\"Example2.txt\", \"r\") as readfile:\n",
    "    with open(\"Example3.txt\", \"w\") as writefile:\n",
    "        for line in readfile:\n",
    "            writefile.write(line)\n"
   ]
  },
  {
   "cell_type": "code",
   "execution_count": 26,
   "metadata": {},
   "outputs": [
    {
     "name": "stdout",
     "output_type": "stream",
     "text": [
      "The weather outside is lovely\n",
      "We have to stay inside though\n",
      "Summer will be here soon\n",
      "This program overwrites the otherThis is line D\n",
      "This program overwrites the other\n",
      "\n"
     ]
    }
   ],
   "source": [
    "# Check and see\n",
    "\n",
    "with open(\"Example3.txt\", \"r\") as testwritefile:\n",
    "    print(testwritefile.read())"
   ]
  },
  {
   "cell_type": "code",
   "execution_count": null,
   "metadata": {},
   "outputs": [],
   "source": []
  }
 ],
 "metadata": {
  "kernelspec": {
   "display_name": "Python",
   "language": "python",
   "name": "conda-env-python-py"
  },
  "language_info": {
   "codemirror_mode": {
    "name": "ipython",
    "version": 3
   },
   "file_extension": ".py",
   "mimetype": "text/x-python",
   "name": "python",
   "nbconvert_exporter": "python",
   "pygments_lexer": "ipython3",
   "version": "3.6.7"
  }
 },
 "nbformat": 4,
 "nbformat_minor": 4
}
