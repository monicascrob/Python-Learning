{
 "cells": [
  {
   "cell_type": "code",
   "execution_count": 13,
   "metadata": {},
   "outputs": [
    {
     "name": "stdout",
     "output_type": "stream",
     "text": [
      "4 if you add one 5\n"
     ]
    },
    {
     "data": {
      "text/plain": [
       "5"
      ]
     },
     "execution_count": 13,
     "metadata": {},
     "output_type": "execute_result"
    }
   ],
   "source": [
    "# Example of a function that adds on to the parameter a prints and returns the output as b\n",
    "\n",
    "def add(a):\n",
    "    b = a + 1\n",
    "    print(a,\"if you add one\", b)\n",
    "    return(b)\n",
    "add(4)"
   ]
  },
  {
   "cell_type": "code",
   "execution_count": 4,
   "metadata": {},
   "outputs": [
    {
     "name": "stdout",
     "output_type": "stream",
     "text": [
      "Help on function add in module __main__:\n",
      "\n",
      "add(a)\n",
      "\n"
     ]
    }
   ],
   "source": [
    "# Get help about an add fuction\n",
    "help(add)"
   ]
  },
  {
   "cell_type": "code",
   "execution_count": 10,
   "metadata": {},
   "outputs": [
    {
     "name": "stdout",
     "output_type": "stream",
     "text": [
      "1 if you add one 2\n"
     ]
    },
    {
     "data": {
      "text/plain": [
       "2"
      ]
     },
     "execution_count": 10,
     "metadata": {},
     "output_type": "execute_result"
    }
   ],
   "source": [
    "# Call a function\n",
    "add(1)"
   ]
  },
  {
   "cell_type": "code",
   "execution_count": 14,
   "metadata": {},
   "outputs": [
    {
     "data": {
      "text/plain": [
       "6"
      ]
     },
     "execution_count": 14,
     "metadata": {},
     "output_type": "execute_result"
    }
   ],
   "source": [
    "# Define a function to multiply two integer numbers\n",
    "def Mult(a,b):\n",
    "    c=a*b\n",
    "    return(c)\n",
    "Mult(2,3)"
   ]
  },
  {
   "cell_type": "code",
   "execution_count": 15,
   "metadata": {},
   "outputs": [
    {
     "data": {
      "text/plain": [
       "119.60000000000001"
      ]
     },
     "execution_count": 15,
     "metadata": {},
     "output_type": "execute_result"
    }
   ],
   "source": [
    "# two floats\n",
    "Mult(10.4,11.5)"
   ]
  },
  {
   "cell_type": "code",
   "execution_count": 16,
   "metadata": {},
   "outputs": [
    {
     "data": {
      "text/plain": [
       "'ParkPark'"
      ]
     },
     "execution_count": 16,
     "metadata": {},
     "output_type": "execute_result"
    }
   ],
   "source": [
    "# one integer and one string\n",
    "Mult(2,\"Park\")"
   ]
  },
  {
   "cell_type": "code",
   "execution_count": 18,
   "metadata": {},
   "outputs": [],
   "source": [
    "# Function definition and local variables\n",
    "\n",
    "def square(a):\n",
    "    \n",
    "    # local variables\n",
    "    b=1\n",
    "    c=a*a+b\n",
    "    print(a,\"if you square+1\", c)\n",
    "    return(c)\n",
    "    "
   ]
  },
  {
   "cell_type": "code",
   "execution_count": 23,
   "metadata": {},
   "outputs": [
    {
     "name": "stdout",
     "output_type": "stream",
     "text": [
      "5 if you square+1 26\n"
     ]
    },
    {
     "data": {
      "text/plain": [
       "26"
      ]
     },
     "execution_count": 23,
     "metadata": {},
     "output_type": "execute_result"
    }
   ],
   "source": [
    "# Initialize global variables \n",
    "\n",
    "x=5\n",
    "z=square(x)\n",
    "z"
   ]
  },
  {
   "cell_type": "code",
   "execution_count": 24,
   "metadata": {},
   "outputs": [
    {
     "name": "stdout",
     "output_type": "stream",
     "text": [
      "6 if you square+1 37\n"
     ]
    },
    {
     "data": {
      "text/plain": [
       "37"
      ]
     },
     "execution_count": 24,
     "metadata": {},
     "output_type": "execute_result"
    }
   ],
   "source": [
    "# Call the function with a direct number\n",
    "\n",
    "square(6)"
   ]
  },
  {
   "cell_type": "code",
   "execution_count": 37,
   "metadata": {},
   "outputs": [],
   "source": [
    "# Define function with return value none or without\n",
    "# If there is no return statement, the function returns None. The following two functions are equivalent\n",
    "\n",
    "def PS():\n",
    "    print(\"Park Slope\")\n",
    "\n",
    "def PS1():\n",
    "    print(\"Park Slope\")\n",
    "    return(None)\n"
   ]
  },
  {
   "cell_type": "code",
   "execution_count": 30,
   "metadata": {},
   "outputs": [
    {
     "name": "stdout",
     "output_type": "stream",
     "text": [
      "Park Slope\n"
     ]
    }
   ],
   "source": [
    "# See the oupt\n",
    "PS()"
   ]
  },
  {
   "cell_type": "code",
   "execution_count": 34,
   "metadata": {},
   "outputs": [
    {
     "name": "stdout",
     "output_type": "stream",
     "text": [
      "Park Slope\n"
     ]
    }
   ],
   "source": [
    "PS1()"
   ]
  },
  {
   "cell_type": "code",
   "execution_count": 35,
   "metadata": {},
   "outputs": [
    {
     "name": "stdout",
     "output_type": "stream",
     "text": [
      "Park Slope\n",
      "None\n"
     ]
    }
   ],
   "source": [
    "# See function return\n",
    "print(PS())"
   ]
  },
  {
   "cell_type": "code",
   "execution_count": 36,
   "metadata": {},
   "outputs": [
    {
     "name": "stdout",
     "output_type": "stream",
     "text": [
      "Park Slope\n",
      "None\n"
     ]
    }
   ],
   "source": [
    "print(PS1())"
   ]
  },
  {
   "cell_type": "code",
   "execution_count": 42,
   "metadata": {},
   "outputs": [
    {
     "data": {
      "text/plain": [
       "'analana'"
      ]
     },
     "execution_count": 42,
     "metadata": {},
     "output_type": "execute_result"
    }
   ],
   "source": [
    "# Function to concatenate two strings \n",
    "\n",
    "def Con(a,b):\n",
    "    c=a+b\n",
    "    return(c)\n",
    "\n",
    "Con(\"ana\",\"lana\")\n"
   ]
  },
  {
   "cell_type": "code",
   "execution_count": 44,
   "metadata": {},
   "outputs": [
    {
     "data": {
      "text/plain": [
       "'abracadabra'"
      ]
     },
     "execution_count": 44,
     "metadata": {},
     "output_type": "execute_result"
    }
   ],
   "source": [
    "def Con(a,b):\n",
    "    return(a+b)\n",
    "\n",
    "Con(\"abra\",\"cadabra\")"
   ]
  },
  {
   "cell_type": "code",
   "execution_count": 1,
   "metadata": {},
   "outputs": [
    {
     "data": {
      "text/plain": [
       "5"
      ]
     },
     "execution_count": 1,
     "metadata": {},
     "output_type": "execute_result"
    }
   ],
   "source": [
    "# Ecuation function\n",
    "def Equation(a,b):\n",
    "    c = a + b + 2 * a * b - 1\n",
    "    if(c < 0):\n",
    "        c = 0 \n",
    "    else:\n",
    "        c = 5\n",
    "    return(c) \n",
    "\n",
    "Equation(2,3)"
   ]
  },
  {
   "cell_type": "code",
   "execution_count": 2,
   "metadata": {},
   "outputs": [
    {
     "name": "stdout",
     "output_type": "stream",
     "text": [
      "[6, 5, 7, 10, 9.5, 8, 6.5]\n"
     ]
    }
   ],
   "source": [
    "# Build-in function print()\n",
    "grades=[6,5,7,10,9.5,8,6.5]\n",
    "print(grades)\n"
   ]
  },
  {
   "cell_type": "code",
   "execution_count": 5,
   "metadata": {},
   "outputs": [
    {
     "data": {
      "text/plain": [
       "52.0"
      ]
     },
     "execution_count": 5,
     "metadata": {},
     "output_type": "execute_result"
    }
   ],
   "source": [
    "# Sum\n",
    "sum(grades)"
   ]
  },
  {
   "cell_type": "code",
   "execution_count": 6,
   "metadata": {},
   "outputs": [
    {
     "data": {
      "text/plain": [
       "7"
      ]
     },
     "execution_count": 6,
     "metadata": {},
     "output_type": "execute_result"
    }
   ],
   "source": [
    "# Length of the list\n",
    "len(grades)"
   ]
  },
  {
   "cell_type": "code",
   "execution_count": 13,
   "metadata": {},
   "outputs": [
    {
     "name": "stdout",
     "output_type": "stream",
     "text": [
      "NYC 42 2020\n",
      "Marathon\n"
     ]
    }
   ],
   "source": [
    "def type_of_run(city,length,year):\n",
    "    \n",
    "    print(city,length,year)\n",
    "    if length > \"41\":\n",
    "        return \"Marathon\"\n",
    "    else:\n",
    "        return \"not a Marathon\"\n",
    "\n",
    "x=type_of_run(\"NYC\",\"42\",\"2020\")\n",
    "print(x)\n",
    "        \n",
    "    "
   ]
  },
  {
   "cell_type": "code",
   "execution_count": 20,
   "metadata": {},
   "outputs": [
    {
     "name": "stdout",
     "output_type": "stream",
     "text": [
      "1\n",
      "horse\n",
      "10\n",
      "abc\n"
     ]
    }
   ],
   "source": [
    "# Print the elements in a list using for loop\n",
    "\n",
    "def PrintList(the_list):\n",
    "    \n",
    "    for element in the_list:\n",
    "        print(element)\n",
    "        \n",
    "PrintList([1,\"horse\",10,\"abc\"])\n",
    "\n"
   ]
  },
  {
   "cell_type": "code",
   "execution_count": 23,
   "metadata": {},
   "outputs": [
    {
     "name": "stdout",
     "output_type": "stream",
     "text": [
      "this service is bad 4\n",
      "this service is good 10\n"
     ]
    }
   ],
   "source": [
    "# Setting parameters with default value\n",
    "\n",
    "def GoodRating(rating=4):\n",
    "    if rating<7:\n",
    "        print(\"this service is bad\", rating)\n",
    "    else:\n",
    "        print(\"this service is good\", rating)\n",
    "            \n",
    "GoodRating() # default\n",
    "GoodRating(10)"
   ]
  },
  {
   "cell_type": "code",
   "execution_count": 24,
   "metadata": {},
   "outputs": [
    {
     "name": "stdout",
     "output_type": "stream",
     "text": [
      "Prospect Park is beautiful\n"
     ]
    }
   ],
   "source": [
    "# Global variables\n",
    "\n",
    "park = \"Prospect Park\"\n",
    "\n",
    "def print1(park):\n",
    "    internal_var=park # internal_var is a local variable, will not be recognized outside of the function\n",
    "    print(park, \"is beautiful\")\n",
    "    \n",
    "print1(park)\n",
    "    "
   ]
  },
  {
   "cell_type": "code",
   "execution_count": 34,
   "metadata": {},
   "outputs": [
    {
     "name": "stdout",
     "output_type": "stream",
     "text": [
      "central park is beautiful\n",
      "prospect park is beautiful\n"
     ]
    }
   ],
   "source": [
    "# Creating global variables from inside the function\n",
    "\n",
    "park = \"central park\"\n",
    "\n",
    "def print2(park):\n",
    "    global internal_var\n",
    "    internal_var= \"prospect park\"\n",
    "    print(park, \"is beautiful\")\n",
    "    \n",
    "print2(park)\n",
    "print2(internal_var)\n"
   ]
  },
  {
   "cell_type": "code",
   "execution_count": 35,
   "metadata": {},
   "outputs": [
    {
     "name": "stdout",
     "output_type": "stream",
     "text": [
      "Muse rating is 0\n",
      "Patrick Watson rating is 10\n",
      "My favourite band is Patrick Watson\n"
     ]
    }
   ],
   "source": [
    "# Another example of global variables\n",
    "\n",
    "MyFavouriteBand = \"Patrick Watson\"\n",
    "\n",
    "def BandRating(BandName):\n",
    "    if BandName == MyFavouriteBand:\n",
    "        return 10\n",
    "    else:\n",
    "        return 0\n",
    "\n",
    "print(\"Muse rating is\", BandRating(\"Muse\"))\n",
    "print(\"Patrick Watson rating is\", BandRating(\"Patrick Watson\"))\n",
    "print(\"My favourite band is\", MyFavouriteBand)\n"
   ]
  },
  {
   "cell_type": "code",
   "execution_count": 39,
   "metadata": {},
   "outputs": [
    {
     "name": "stdout",
     "output_type": "stream",
     "text": [
      "Muse rating is 0\n",
      "Patrick Watson rating is 10\n",
      "My favourite band is Patrick Watson\n"
     ]
    }
   ],
   "source": [
    "# Local variable\n",
    "\n",
    "def BandRating(BandName):\n",
    "    MyFavouriteBand == \"Patrick Watson\"\n",
    "    if BandName == MyFavouriteBand:\n",
    "        return 10\n",
    "    else:\n",
    "        return 0\n",
    "    \n",
    "print(\"Muse rating is\", BandRating(\"Muse\"))\n",
    "print(\"Patrick Watson rating is\", BandRating(\"Patrick Watson\"))\n",
    "print(\"My favourite band is\", MyFavouriteBand)"
   ]
  },
  {
   "cell_type": "code",
   "execution_count": 43,
   "metadata": {},
   "outputs": [
    {
     "name": "stdout",
     "output_type": "stream",
     "text": [
      "Muse rating is 10\n",
      "Patrick Watson rating is 0\n",
      "My favourite band is Patrick Watson\n"
     ]
    }
   ],
   "source": [
    "# Exemple of global and local variable with the same name; the function will run the local variable.\n",
    "\n",
    "MyFavouriteBand = \"Patrick Watson\"\n",
    "\n",
    "def BandRating(BandName):\n",
    "    MyFavouriteBand = \"Muse\"\n",
    "    if BandName == MyFavouriteBand:\n",
    "        return 10\n",
    "    else:\n",
    "        return 0\n",
    "    \n",
    "print(\"Muse rating is\", BandRating(\"Muse\"))\n",
    "print(\"Patrick Watson rating is\", BandRating(\"Patrick Watson\"))\n",
    "print(\"My favourite band is\", MyFavouriteBand)\n",
    "    "
   ]
  },
  {
   "cell_type": "code",
   "execution_count": 45,
   "metadata": {},
   "outputs": [
    {
     "data": {
      "text/plain": [
       "2.3333333333333335"
      ]
     },
     "execution_count": 45,
     "metadata": {},
     "output_type": "execute_result"
    }
   ],
   "source": [
    "# function that divides the first input by the second input\n",
    "\n",
    "def divide(a,b):\n",
    "    return a/b\n",
    "\n",
    "divide(7,3)"
   ]
  },
  {
   "cell_type": "code",
   "execution_count": 47,
   "metadata": {},
   "outputs": [
    {
     "data": {
      "text/plain": [
       "'adamilea'"
      ]
     },
     "execution_count": 47,
     "metadata": {},
     "output_type": "execute_result"
    }
   ],
   "source": [
    "# Concatenate used in other ways\n",
    "\n",
    "def con(a,b):\n",
    "    return a+b\n",
    "\n",
    "con(\"ada\", \"milea\")\n"
   ]
  },
  {
   "cell_type": "code",
   "execution_count": 49,
   "metadata": {},
   "outputs": [
    {
     "data": {
      "text/plain": [
       "5"
      ]
     },
     "execution_count": 49,
     "metadata": {},
     "output_type": "execute_result"
    }
   ],
   "source": [
    "# concatenate used for adding\n",
    "con(1,4)"
   ]
  },
  {
   "cell_type": "code",
   "execution_count": 52,
   "metadata": {},
   "outputs": [
    {
     "data": {
      "text/plain": [
       "[1, 4, 5, 6]"
      ]
     },
     "execution_count": 52,
     "metadata": {},
     "output_type": "execute_result"
    }
   ],
   "source": [
    "# Concatenate used to concentrate 2 lists/tuples\n",
    "con([1,4],[5,6])"
   ]
  },
  {
   "cell_type": "code",
   "execution_count": null,
   "metadata": {},
   "outputs": [],
   "source": []
  }
 ],
 "metadata": {
  "kernelspec": {
   "display_name": "Python",
   "language": "python",
   "name": "conda-env-python-py"
  },
  "language_info": {
   "codemirror_mode": {
    "name": "ipython",
    "version": 3
   },
   "file_extension": ".py",
   "mimetype": "text/x-python",
   "name": "python",
   "nbconvert_exporter": "python",
   "pygments_lexer": "ipython3",
   "version": "3.6.7"
  }
 },
 "nbformat": 4,
 "nbformat_minor": 4
}
